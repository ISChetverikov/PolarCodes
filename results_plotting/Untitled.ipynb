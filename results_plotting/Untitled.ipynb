{
 "cells": [
  {
   "cell_type": "code",
   "execution_count": 7,
   "metadata": {},
   "outputs": [],
   "source": [
    "from collections import deque\n",
    "\n",
    "def make_fano_tree_file(m, k, mask, p):\n",
    "    n = 2 ** m\n",
    "    result = []\n",
    "    \n",
    "    # level, metric, path\n",
    "    init = (0, 0.0, \"\")\n",
    "    q = deque([])\n",
    "    q.append(5)\n",
    "    q.append(3)\n",
    "    \n",
    "    result.append(q.popleft())\n",
    "    \n",
    "    while (len(q) != 0):\n",
    "        \n",
    "    \n",
    "    return result"
   ]
  },
  {
   "cell_type": "code",
   "execution_count": 8,
   "metadata": {},
   "outputs": [
    {
     "name": "stdout",
     "output_type": "stream",
     "text": [
      "[5]\n"
     ]
    }
   ],
   "source": [
    "res = make_fano_tree_file(3, 4, [0,0,0,1,0,1,1,1], [0.070364, 0.884861, 0.831962, 0.013296, 0.987174, 0.584293, 0.677645, 0.134929])\n",
    "for r in res:\n",
    "    print(res)"
   ]
  },
  {
   "cell_type": "code",
   "execution_count": null,
   "metadata": {},
   "outputs": [],
   "source": []
  }
 ],
 "metadata": {
  "kernelspec": {
   "display_name": "Python 3",
   "language": "python",
   "name": "python3"
  },
  "language_info": {
   "codemirror_mode": {
    "name": "ipython",
    "version": 3
   },
   "file_extension": ".py",
   "mimetype": "text/x-python",
   "name": "python",
   "nbconvert_exporter": "python",
   "pygments_lexer": "ipython3",
   "version": "3.8.3"
  }
 },
 "nbformat": 4,
 "nbformat_minor": 4
}
